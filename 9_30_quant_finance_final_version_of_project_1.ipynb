{
  "nbformat": 4,
  "nbformat_minor": 0,
  "metadata": {
    "colab": {
      "provenance": []
    },
    "kernelspec": {
      "name": "python3",
      "display_name": "Python 3"
    },
    "language_info": {
      "name": "python"
    }
  },
  "cells": [
    {
      "cell_type": "markdown",
      "source": [
        "##QF Fall Project 1\n",
        "\n",
        "Diana Alvarez, Daniel Ricci, Mike Savino"
      ],
      "metadata": {
        "id": "54ru0fe2N4vN"
      }
    },
    {
      "cell_type": "code",
      "execution_count": null,
      "metadata": {
        "id": "_W3SzfTQNE98"
      },
      "outputs": [],
      "source": [
        "import pandas as pd\n",
        "import yfinance as yf\n",
        "from datetime import datetime, timedelta\n",
        "import numpy as np"
      ]
    },
    {
      "cell_type": "markdown",
      "source": [
        "##PART 1: Create a table showing constituent (stocks) risk analysis in the equal-weight portfolio analysis as of the current date"
      ],
      "metadata": {
        "id": "iXLTVEJwG7Yj"
      }
    },
    {
      "cell_type": "markdown",
      "source": [
        "##Column 1"
      ],
      "metadata": {
        "id": "Z3Ty_yGMTRMf"
      }
    },
    {
      "cell_type": "code",
      "source": [
        "assets = [\"GOOG\", \"AMZN\", \"MSFT\", \"NVDA\", \"META\", \"TSLA\", \"AAPL\"]"
      ],
      "metadata": {
        "id": "a3lC8Na6OgE5"
      },
      "execution_count": null,
      "outputs": []
    },
    {
      "cell_type": "markdown",
      "source": [
        "##Column 2\n",
        "\n",
        "Portfolio Weight for each asset = 1/number of asset --> 7 stocks, 1/7 weight"
      ],
      "metadata": {
        "id": "T7VHQ0jgTj2y"
      }
    },
    {
      "cell_type": "code",
      "source": [
        "weights = np.array([1 / len(assets)] * len(assets))\n",
        "print(weights)"
      ],
      "metadata": {
        "colab": {
          "base_uri": "https://localhost:8080/"
        },
        "id": "Q18FKD45TmNB",
        "outputId": "a528fcc9-4d3f-4455-fdd2-e7a65bfab514"
      },
      "execution_count": null,
      "outputs": [
        {
          "output_type": "stream",
          "name": "stdout",
          "text": [
            "[0.14285714 0.14285714 0.14285714 0.14285714 0.14285714 0.14285714\n",
            " 0.14285714]\n"
          ]
        }
      ]
    },
    {
      "cell_type": "markdown",
      "source": [
        "##Column 3"
      ],
      "metadata": {
        "id": "I0BVcVJ4R7F1"
      }
    },
    {
      "cell_type": "markdown",
      "source": [
        "Annualized Volatility: daily volatility x Root252"
      ],
      "metadata": {
        "id": "aKm-TPjUSLeS"
      }
    },
    {
      "cell_type": "code",
      "source": [
        "end_date = datetime.today()\n",
        "start_date = end_date - timedelta(days=90)\n",
        "\n",
        "prices_3months =yf.download(assets, start=start_date, end=end_date)['Adj Close']\n",
        "returns = prices_3months.pct_change()\n",
        "daily_volatility = returns.std()\n",
        "\n",
        "annualized_volatility = daily_volatility * np.sqrt(252)\n",
        "volatility_3mo= np.sqrt(np.dot(weights.T, np.dot(np.diag(annualized_volatility**2), weights)))\n"
      ],
      "metadata": {
        "colab": {
          "base_uri": "https://localhost:8080/"
        },
        "id": "Bo16K4QZR6r0",
        "outputId": "b1c4da4c-cb04-41ab-dbfc-e8f6c66720cd"
      },
      "execution_count": null,
      "outputs": [
        {
          "output_type": "stream",
          "name": "stderr",
          "text": [
            "[*********************100%***********************]  7 of 7 completed\n"
          ]
        }
      ]
    },
    {
      "cell_type": "code",
      "source": [
        "print(volatility_3mo)"
      ],
      "metadata": {
        "colab": {
          "base_uri": "https://localhost:8080/"
        },
        "id": "wAwOiNXYR2n8",
        "outputId": "a880273f-2646-4a4c-a484-e23014acf7a0"
      },
      "execution_count": null,
      "outputs": [
        {
          "output_type": "stream",
          "name": "stdout",
          "text": [
            "0.15697183788988822\n"
          ]
        }
      ]
    },
    {
      "cell_type": "markdown",
      "source": [
        "##COLUMN 4,5,6\n",
        "Beta against SPY: A beta coefficient shows the volatility of an individual stock compared to the systematic risk of the entire market.\n",
        "\n",
        "Beta coefficient(β)= Covariance(Re,Rm)/Variance(Rm)\n",
        "\n",
        "re, return of indivdual stock\n",
        "rm, retun on the overall market\n",
        "covariance, changes in stock's return relation to change's in the market's return\n",
        "variance, the spread of market data points compared to the average\n",
        "\n",
        "sources: https://www.investopedia.com/terms/b/beta.asp#:~:text=cost%20of%20capital.-,Calculating%20Beta,the%20rest%20of%20the%20market\n",
        "https://news.ycombinator.com/item?id=3142098"
      ],
      "metadata": {
        "id": "0jzXtM6ZTOgZ"
      }
    },
    {
      "cell_type": "code",
      "source": [
        "benchmarks= [\"SPY\", \"IWM\", \"DIA\"]\n",
        "beta_end_date= datetime.now()\n",
        "beta_start_date = end_date - timedelta(days=356)\n",
        "\n",
        "benchmark_prices = yf.download(assets + benchmarks, start=beta_start_date, end=beta_end_date)['Adj Close']\n",
        "benchmark_return = benchmark_prices.pct_change()\n",
        "benchmark_returns = benchmark_return.dropna()\n",
        "print(benchmark_returns)"
      ],
      "metadata": {
        "colab": {
          "base_uri": "https://localhost:8080/"
        },
        "id": "BEPK6cdOTb68",
        "outputId": "e9687332-155c-41b7-8004-046d9d426ba4"
      },
      "execution_count": null,
      "outputs": [
        {
          "output_type": "stream",
          "name": "stderr",
          "text": [
            "[*********************100%***********************]  10 of 10 completed"
          ]
        },
        {
          "output_type": "stream",
          "name": "stdout",
          "text": [
            "Ticker                         AAPL      AMZN       DIA      GOOG       IWM  \\\n",
            "Date                                                                          \n",
            "2023-10-11 00:00:00+00:00  0.007904  0.018150  0.001719  0.017960 -0.001705   \n",
            "2023-10-12 00:00:00+00:00  0.005061  0.003793 -0.005207 -0.009951 -0.022599   \n",
            "2023-10-13 00:00:00+00:00 -0.010293 -0.019195  0.001219 -0.012189 -0.008329   \n",
            "2023-10-16 00:00:00+00:00 -0.000727  0.021265  0.009534  0.013783  0.016151   \n",
            "2023-10-17 00:00:00+00:00 -0.008785 -0.008148  0.000294  0.003559  0.011155   \n",
            "...                             ...       ...       ...       ...       ...   \n",
            "2024-09-24 00:00:00+00:00  0.003974  0.000413  0.002422  0.003495  0.001676   \n",
            "2024-09-25 00:00:00+00:00 -0.004398 -0.007373 -0.007131 -0.003972 -0.012197   \n",
            "2024-09-26 00:00:00+00:00  0.005080 -0.007116  0.005965  0.005154  0.005329   \n",
            "2024-09-27 00:00:00+00:00  0.001187 -0.016688  0.003155  0.008912  0.006763   \n",
            "2024-09-30 00:00:00+00:00  0.015067 -0.012662 -0.003665  0.004054 -0.001452   \n",
            "\n",
            "Ticker                         META      MSFT      NVDA       SPY      TSLA  \n",
            "Date                                                                         \n",
            "2023-10-11 00:00:00+00:00  0.018581  0.012272  0.022010  0.004096 -0.002390  \n",
            "2023-10-12 00:00:00+00:00 -0.011165 -0.003790  0.002970 -0.006096 -0.015666  \n",
            "2023-10-13 00:00:00+00:00 -0.029214 -0.010358 -0.031612 -0.004981 -0.029938  \n",
            "2023-10-16 00:00:00+00:00  0.020528  0.014982  0.013946  0.010522  0.011150  \n",
            "2023-10-17 00:00:00+00:00  0.008874 -0.001744 -0.046795 -0.000046  0.003663  \n",
            "...                             ...       ...       ...       ...       ...  \n",
            "2024-09-24 00:00:00+00:00 -0.001913 -0.010011  0.039653  0.002861  0.017080  \n",
            "2024-09-25 00:00:00+00:00  0.008840  0.006850  0.021842 -0.002206  0.010815  \n",
            "2024-09-26 00:00:00+00:00 -0.000827 -0.001851  0.004291  0.003965 -0.010894  \n",
            "2024-09-27 00:00:00+00:00 -0.000845 -0.007628 -0.021283 -0.001450  0.024546  \n",
            "2024-09-30 00:00:00+00:00  0.003472 -0.002290 -0.010008 -0.000997 -0.006565  \n",
            "\n",
            "[244 rows x 10 columns]\n"
          ]
        },
        {
          "output_type": "stream",
          "name": "stderr",
          "text": [
            "\n"
          ]
        }
      ]
    },
    {
      "cell_type": "markdown",
      "source": [
        "beta= covar of asset and becnhmark returns/var of benchmark returns\n",
        "source: https://www.investopedia.com/terms/b/beta.asp#:~:text=cost%20of%20capital.-,Calculating%20Beta,the%20rest%20of%20the%20market."
      ],
      "metadata": {
        "id": "SRYSCYqNE-KJ"
      }
    },
    {
      "cell_type": "code",
      "source": [
        "def calc_beta(asset_returns, benchmark_returns):\n",
        "    covariance = asset_returns.cov(benchmark_returns)\n",
        "    variance = benchmark_returns.var()\n",
        "    beta = covariance / variance\n",
        "    return beta\n",
        "\n",
        "beta_against_IWN = {}\n",
        "for asset in assets:\n",
        "    stock_returns = returns[asset]\n",
        "    beta_against_IWN[asset] = calc_beta(stock_returns, benchmark_returns['IWM'])\n",
        "\n",
        "beta_against_DIA = {}\n",
        "for asset in assets:\n",
        "    stock_returns = returns[asset]\n",
        "    beta_against_DIA[asset] = calc_beta(stock_returns, benchmark_returns['DIA'])\n",
        "\n",
        "beta_against_SPY = {}\n",
        "for asset in assets:\n",
        "    stock_returns = returns[asset]\n",
        "    beta_against_SPY[asset] = calc_beta(stock_returns, benchmark_returns['SPY'])\n"
      ],
      "metadata": {
        "id": "GxWZ6wGncu-0"
      },
      "execution_count": null,
      "outputs": []
    },
    {
      "cell_type": "code",
      "source": [
        "print(beta_against_SPY)\n",
        "print(beta_against_IWN)\n",
        "print(beta_against_DIA)"
      ],
      "metadata": {
        "colab": {
          "base_uri": "https://localhost:8080/"
        },
        "id": "dRSjxUNsdpS1",
        "outputId": "92912000-b368-4c4b-b64d-65b388ce6d29"
      },
      "execution_count": null,
      "outputs": [
        {
          "output_type": "stream",
          "name": "stdout",
          "text": [
            "{'GOOG': 1.2840358123061855, 'AMZN': 1.4934279132118717, 'MSFT': 1.0790059920957562, 'NVDA': 2.733391386907724, 'META': 1.5853641633863287, 'TSLA': 2.2235020891826864, 'AAPL': 0.9998123361699232}\n",
            "{'GOOG': 0.37421345415060725, 'AMZN': 0.4840499056753191, 'MSFT': 0.24971658894797666, 'NVDA': 0.638424224576805, 'META': 0.37663006791635006, 'TSLA': 1.025977962123993, 'AAPL': 0.3298066955393905}\n",
            "{'GOOG': 0.8872812249916401, 'AMZN': 1.1640888280460224, 'MSFT': 0.9047999537641851, 'NVDA': 1.2584601018244959, 'META': 1.0505318232264473, 'TSLA': 1.8154001237248296, 'AAPL': 0.8003109289437168}\n"
          ]
        }
      ]
    },
    {
      "cell_type": "markdown",
      "source": [
        "##Column 7, 8\n",
        "Average weekly drawdown & Max weekly drawdown  (52 week LOW- 52 week HIGH)/52-week high"
      ],
      "metadata": {
        "id": "6OwWhdT1eRbp"
      }
    },
    {
      "cell_type": "markdown",
      "source": [
        "initial attempt--> errors"
      ],
      "metadata": {
        "id": "JQjBczMlCzjL"
      }
    },
    {
      "cell_type": "code",
      "source": [
        "awd_end_date= datetime.now()\n",
        "awd_start_date = end_date - timedelta(weeks=52)\n",
        "\n",
        "awd_prices = yf.download(assets, start=awd_start_date, end=awd_end_date)['Adj Close']\n",
        "import pandas as pd\n",
        "\n",
        "drawdown = {}\n",
        "for asset in assets:\n",
        "    weekly_high = awd_prices[asset].max()\n",
        "    weekly_low = awd_prices[asset].min()\n",
        "    awd= weekly_low - weekly_high\n",
        "    drawdown[asset] = awd / weekly_high\n",
        "\n",
        "drawdown.mean()\n",
        "drawdown.min()"
      ],
      "metadata": {
        "colab": {
          "base_uri": "https://localhost:8080/",
          "height": 216
        },
        "id": "VkPxSPkIeQ-_",
        "outputId": "36baa577-301f-429e-d0db-fa4514a51433"
      },
      "execution_count": null,
      "outputs": [
        {
          "output_type": "stream",
          "name": "stderr",
          "text": [
            "[*********************100%***********************]  7 of 7 completed\n"
          ]
        },
        {
          "output_type": "error",
          "ename": "AttributeError",
          "evalue": "'dict' object has no attribute 'mean'",
          "traceback": [
            "\u001b[0;31m---------------------------------------------------------------------------\u001b[0m",
            "\u001b[0;31mAttributeError\u001b[0m                            Traceback (most recent call last)",
            "\u001b[0;32m<ipython-input-13-678024364de0>\u001b[0m in \u001b[0;36m<cell line: 14>\u001b[0;34m()\u001b[0m\n\u001b[1;32m     12\u001b[0m     \u001b[0mdrawdown\u001b[0m\u001b[0;34m[\u001b[0m\u001b[0masset\u001b[0m\u001b[0;34m]\u001b[0m \u001b[0;34m=\u001b[0m \u001b[0mawd\u001b[0m \u001b[0;34m/\u001b[0m \u001b[0mweekly_high\u001b[0m\u001b[0;34m\u001b[0m\u001b[0;34m\u001b[0m\u001b[0m\n\u001b[1;32m     13\u001b[0m \u001b[0;34m\u001b[0m\u001b[0m\n\u001b[0;32m---> 14\u001b[0;31m \u001b[0mdrawdown\u001b[0m\u001b[0;34m.\u001b[0m\u001b[0mmean\u001b[0m\u001b[0;34m(\u001b[0m\u001b[0;34m)\u001b[0m\u001b[0;34m\u001b[0m\u001b[0;34m\u001b[0m\u001b[0m\n\u001b[0m\u001b[1;32m     15\u001b[0m \u001b[0mdrawdown\u001b[0m\u001b[0;34m.\u001b[0m\u001b[0mmin\u001b[0m\u001b[0;34m(\u001b[0m\u001b[0;34m)\u001b[0m\u001b[0;34m\u001b[0m\u001b[0;34m\u001b[0m\u001b[0m\n",
            "\u001b[0;31mAttributeError\u001b[0m: 'dict' object has no attribute 'mean'"
          ]
        }
      ]
    },
    {
      "cell_type": "markdown",
      "source": [
        "Modifications after CHATGPT"
      ],
      "metadata": {
        "id": "Lryf78yTC3KH"
      }
    },
    {
      "cell_type": "code",
      "source": [
        "average_weekly_drawdown = {}\n",
        "maximum_weekly_drawdown = {}\n",
        "\n",
        "\n",
        "for asset in assets:\n",
        "    weekly_prices = awd_prices[asset].resample('W').agg(['max', 'min'])\n",
        "    drawdowns = (weekly_prices['min'] - weekly_prices['max']) / weekly_prices['max']\n",
        "    average_weekly_drawdown[asset] = drawdowns.mean()\n",
        "    maximum_weekly_drawdown[asset] = drawdowns.min()\n",
        "\n",
        "print (average_weekly_drawdown)\n",
        "print (maximum_weekly_drawdown)"
      ],
      "metadata": {
        "colab": {
          "base_uri": "https://localhost:8080/"
        },
        "id": "4gO2vyybC2zg",
        "outputId": "1a37e50f-f19c-458e-dc96-194331f54bfb"
      },
      "execution_count": null,
      "outputs": [
        {
          "output_type": "stream",
          "name": "stdout",
          "text": [
            "{'GOOG': -0.03313184859337624, 'AMZN': -0.033948386666553476, 'MSFT': -0.025322075956974166, 'NVDA': -0.061957249990517424, 'META': -0.04202629858492829, 'TSLA': -0.06431517820634379, 'AAPL': -0.02690647043017974}\n",
            "{'GOOG': -0.1193262898333786, 'AMZN': -0.10204301137570579, 'MSFT': -0.05945829521067111, 'NVDA': -0.14394095552251854, 'META': -0.17863524028934608, 'TSLA': -0.1681773575981104, 'AAPL': -0.09858109553486116}\n"
          ]
        }
      ]
    },
    {
      "cell_type": "markdown",
      "source": [
        "##Column 9\n",
        "\n",
        "total return (using trailing 10 years=520 weeks) : ((o-n)-1)*100\n",
        "\n",
        "source: https://stackoverflow.com/questions/63434019/\n",
        "\n",
        "-total-returns-from-a-dataframe\n",
        "\n",
        "((price 10 years ago/current price )-1)*100 = total return"
      ],
      "metadata": {
        "id": "EgDU-yGgepKZ"
      }
    },
    {
      "cell_type": "code",
      "source": [
        "total_10_end_date= datetime.now()\n",
        "total_10_start_date = end_date - timedelta(weeks=520)\n",
        "\n",
        "total_10_prices = yf.download(assets, start=total_10_start_date, end=total_10_end_date)['Adj Close']\n",
        "\n",
        "total_returns = {}\n",
        "for asset in assets:\n",
        "    beginning_value = total_10_prices[asset].iloc[0]\n",
        "    ending_value = total_10_prices[asset].iloc[-1]\n",
        "\n",
        "    total_return = ((ending_value / beginning_value) - 1) * 100\n",
        "    total_returns[asset] = total_return\n",
        "\n",
        "print(total_returns)"
      ],
      "metadata": {
        "colab": {
          "base_uri": "https://localhost:8080/"
        },
        "id": "VwDdz89mevT9",
        "outputId": "d3c087d5-ae86-4b19-e8ec-62390e33b232"
      },
      "execution_count": null,
      "outputs": [
        {
          "output_type": "stream",
          "name": "stderr",
          "text": [
            "[*********************100%***********************]  7 of 7 completed"
          ]
        },
        {
          "output_type": "stream",
          "name": "stdout",
          "text": [
            "{'GOOG': 525.7547880817182, 'AMZN': 1110.9642700608945, 'MSFT': 1044.2975664451742, 'NVDA': 29842.012448371595, 'META': 682.277041634677, 'TSLA': 1628.8169875896012, 'AAPL': 943.5781751940126}\n"
          ]
        },
        {
          "output_type": "stream",
          "name": "stderr",
          "text": [
            "\n"
          ]
        }
      ]
    },
    {
      "cell_type": "markdown",
      "source": [
        "##Column 10\n",
        "Annualized Total Return"
      ],
      "metadata": {
        "id": "HZmklPf8evvx"
      }
    },
    {
      "cell_type": "code",
      "source": [
        "annual_end_date= datetime.now()\n",
        "annual_start_date = end_date - timedelta(weeks=520)\n",
        "\n",
        "annualized_total_prices = yf.download(assets, start=annual_start_date, end=annual_end_date)['Adj Close']\n",
        "annualized_returns = annualized_total_prices.pct_change().dropna()\n",
        "\n",
        "annualized_total_returns = {}\n",
        "for asset in assets:\n",
        "    annualized_return = ((1 + total_return) ** (1 / 10)) - 1\n",
        "    total_returns[asset] = total_return * 100\n",
        "    annualized_total_returns[asset] = annualized_return * 100\n",
        "\n",
        "\n",
        "print(annualized_total_returns)"
      ],
      "metadata": {
        "colab": {
          "base_uri": "https://localhost:8080/"
        },
        "id": "aRVtaGF5sU-R",
        "outputId": "fcd884c0-0ad8-4455-bf25-d99d10616acf"
      },
      "execution_count": null,
      "outputs": [
        {
          "output_type": "stream",
          "name": "stderr",
          "text": [
            "[*********************100%***********************]  7 of 7 completed"
          ]
        },
        {
          "output_type": "stream",
          "name": "stdout",
          "text": [
            "{'GOOG': 98.39183330499924, 'AMZN': 98.39183330499924, 'MSFT': 98.39183330499924, 'NVDA': 98.39183330499924, 'META': 98.39183330499924, 'TSLA': 98.39183330499924, 'AAPL': 98.39183330499924}\n"
          ]
        },
        {
          "output_type": "stream",
          "name": "stderr",
          "text": [
            "\n"
          ]
        }
      ]
    },
    {
      "cell_type": "markdown",
      "source": [
        "##TABLE 1"
      ],
      "metadata": {
        "id": "ThqKy1heUrvl"
      }
    },
    {
      "cell_type": "code",
      "source": [
        "portfolio_dict= ({'Ticker': assets,\n",
        "       'Portfolio Weight': weights,\n",
        "       'Annualized Volatility': annualized_volatility,\n",
        "            'Beta against SPY': beta_against_SPY,\n",
        "            'Beta against IWM': beta_against_IWN,\n",
        "            'Beta against DIA': beta_against_DIA,\n",
        "            'Average Weekly Drawdown': average_weekly_drawdown,\n",
        "            'Max Weekly Drawdown': maximum_weekly_drawdown,\n",
        "            'Total Return': total_returns,\n",
        "            'Annualized Total Return': annualized_total_returns\n",
        "            })\n",
        "\n",
        "print(portfolio_dict)"
      ],
      "metadata": {
        "id": "xWp5HJqJUjpU",
        "colab": {
          "base_uri": "https://localhost:8080/"
        },
        "outputId": "b7498dce-3cb0-4cda-f22b-4d7869690210"
      },
      "execution_count": null,
      "outputs": [
        {
          "output_type": "stream",
          "name": "stdout",
          "text": [
            "{'Ticker': ['GOOG', 'AMZN', 'MSFT', 'NVDA', 'META', 'TSLA', 'AAPL'], 'Portfolio Weight': array([0.14285714, 0.14285714, 0.14285714, 0.14285714, 0.14285714,\n",
            "       0.14285714, 0.14285714]), 'Annualized Volatility': Ticker\n",
            "AAPL    0.225577\n",
            "AMZN    0.324024\n",
            "GOOG    0.264659\n",
            "META    0.347259\n",
            "MSFT    0.201909\n",
            "NVDA    0.653122\n",
            "TSLA    0.627314\n",
            "dtype: float64, 'Beta against SPY': {'GOOG': 2.017826405767726, 'AMZN': 2.512683017624418, 'MSFT': 1.6095222840895576, 'NVDA': 5.340173285120893, 'META': 2.148026468116663, 'TSLA': 4.71236754043569, 'AAPL': 1.5686673522645533}, 'Beta against IWM': {'GOOG': 0.6774154066393676, 'AMZN': 0.8986675207138117, 'MSFT': 0.44718717547083764, 'NVDA': 1.5041546870591034, 'META': 0.35013745956006115, 'TSLA': 1.5184881542657205, 'AAPL': 0.520493140592844}, 'Beta against DIA': {'GOOG': 1.6347432747485828, 'AMZN': 2.1685899291941206, 'MSFT': 1.3303787964172107, 'NVDA': 3.420345364557264, 'META': 1.2159255636339308, 'TSLA': 3.572596817994636, 'AAPL': 1.339244272327688}, 'Average Weekly Drawdown': {'GOOG': -0.03313184859337624, 'AMZN': -0.033948386666553476, 'MSFT': -0.025322075956974166, 'NVDA': -0.061957249990517424, 'META': -0.04202629858492829, 'TSLA': -0.06431517820634379, 'AAPL': -0.02690647043017974}, 'Max Weekly Drawdown': {'GOOG': -0.1193262898333786, 'AMZN': -0.10204301137570579, 'MSFT': -0.05945829521067111, 'NVDA': -0.14394095552251854, 'META': -0.17863524028934608, 'TSLA': -0.1681773575981104, 'AAPL': -0.09858109553486116}, 'Total Return': {'GOOG': 94357.81751940126, 'AMZN': 94357.81751940126, 'MSFT': 94357.81751940126, 'NVDA': 94357.81751940126, 'META': 94357.81751940126, 'TSLA': 94357.81751940126, 'AAPL': 94357.81751940126}, 'Annualized Total Return': {'GOOG': 98.39183330499924, 'AMZN': 98.39183330499924, 'MSFT': 98.39183330499924, 'NVDA': 98.39183330499924, 'META': 98.39183330499924, 'TSLA': 98.39183330499924, 'AAPL': 98.39183330499924}}\n"
          ]
        }
      ]
    },
    {
      "cell_type": "markdown",
      "source": [
        "Initial attempt to create dataframe:"
      ],
      "metadata": {
        "id": "5KUJvCJluS0P"
      }
    },
    {
      "cell_type": "code",
      "source": [
        "# @title\n",
        "#columns = ['Ticker', 'Portfolio Weight', 'Annualized Volatility', 'Beta against SPY', 'Beta against IWM', 'Beta against DIA', 'Average Weekly Drawdown', 'Max Weekly Drawdown', 'Total Return', 'Annualized Total Return']\n",
        "#portfolio_df = pd.DataFrame(portfolio)\n",
        "#portfolio_df = portfolio_df[columns]\n",
        "\n",
        "#ValueError: Mixing dicts with non-Series may lead to ambiguous ordering."
      ],
      "metadata": {
        "colab": {
          "base_uri": "https://localhost:8080/"
        },
        "collapsed": true,
        "id": "IdM9k2JxrVKI",
        "outputId": "7a3de95e-95f6-4f1c-e934-25d925443c58"
      },
      "execution_count": null,
      "outputs": [
        {
          "output_type": "error",
          "ename": "ValueError",
          "evalue": "Mixing dicts with non-Series may lead to ambiguous ordering.",
          "traceback": [
            "\u001b[0;31m---------------------------------------------------------------------------\u001b[0m",
            "\u001b[0;31mValueError\u001b[0m                                Traceback (most recent call last)",
            "\u001b[0;32m<ipython-input-23-dcc439b9a85c>\u001b[0m in \u001b[0;36m<cell line: 2>\u001b[0;34m()\u001b[0m\n\u001b[1;32m      1\u001b[0m \u001b[0mcolumns\u001b[0m \u001b[0;34m=\u001b[0m \u001b[0;34m[\u001b[0m\u001b[0;34m'Ticker'\u001b[0m\u001b[0;34m,\u001b[0m \u001b[0;34m'Portfolio Weight'\u001b[0m\u001b[0;34m,\u001b[0m \u001b[0;34m'Annualized Volatility'\u001b[0m\u001b[0;34m,\u001b[0m \u001b[0;34m'Beta against SPY'\u001b[0m\u001b[0;34m,\u001b[0m \u001b[0;34m'Beta against IWM'\u001b[0m\u001b[0;34m,\u001b[0m \u001b[0;34m'Beta against DIA'\u001b[0m\u001b[0;34m,\u001b[0m \u001b[0;34m'Average Weekly Drawdown'\u001b[0m\u001b[0;34m,\u001b[0m \u001b[0;34m'Max Weekly Drawdown'\u001b[0m\u001b[0;34m,\u001b[0m \u001b[0;34m'Total Return'\u001b[0m\u001b[0;34m,\u001b[0m \u001b[0;34m'Annualized Total Return'\u001b[0m\u001b[0;34m]\u001b[0m\u001b[0;34m\u001b[0m\u001b[0;34m\u001b[0m\u001b[0m\n\u001b[0;32m----> 2\u001b[0;31m \u001b[0mportfolio_df\u001b[0m \u001b[0;34m=\u001b[0m \u001b[0mpd\u001b[0m\u001b[0;34m.\u001b[0m\u001b[0mDataFrame\u001b[0m\u001b[0;34m(\u001b[0m\u001b[0mportfolio\u001b[0m\u001b[0;34m)\u001b[0m\u001b[0;34m\u001b[0m\u001b[0;34m\u001b[0m\u001b[0m\n\u001b[0m\u001b[1;32m      3\u001b[0m \u001b[0mportfolio_df\u001b[0m \u001b[0;34m=\u001b[0m \u001b[0mportfolio_df\u001b[0m\u001b[0;34m[\u001b[0m\u001b[0mcolumns\u001b[0m\u001b[0;34m]\u001b[0m\u001b[0;34m\u001b[0m\u001b[0;34m\u001b[0m\u001b[0m\n\u001b[1;32m      4\u001b[0m \u001b[0;34m\u001b[0m\u001b[0m\n\u001b[1;32m      5\u001b[0m \u001b[0mprint\u001b[0m\u001b[0;34m(\u001b[0m\u001b[0mportfolio_df\u001b[0m\u001b[0;34m)\u001b[0m\u001b[0;34m\u001b[0m\u001b[0;34m\u001b[0m\u001b[0m\n",
            "\u001b[0;32m/usr/local/lib/python3.10/dist-packages/pandas/core/frame.py\u001b[0m in \u001b[0;36m__init__\u001b[0;34m(self, data, index, columns, dtype, copy)\u001b[0m\n\u001b[1;32m    731\u001b[0m         \u001b[0;32melif\u001b[0m \u001b[0misinstance\u001b[0m\u001b[0;34m(\u001b[0m\u001b[0mdata\u001b[0m\u001b[0;34m,\u001b[0m \u001b[0mdict\u001b[0m\u001b[0;34m)\u001b[0m\u001b[0;34m:\u001b[0m\u001b[0;34m\u001b[0m\u001b[0;34m\u001b[0m\u001b[0m\n\u001b[1;32m    732\u001b[0m             \u001b[0;31m# GH#38939 de facto copy defaults to False only in non-dict cases\u001b[0m\u001b[0;34m\u001b[0m\u001b[0;34m\u001b[0m\u001b[0m\n\u001b[0;32m--> 733\u001b[0;31m             \u001b[0mmgr\u001b[0m \u001b[0;34m=\u001b[0m \u001b[0mdict_to_mgr\u001b[0m\u001b[0;34m(\u001b[0m\u001b[0mdata\u001b[0m\u001b[0;34m,\u001b[0m \u001b[0mindex\u001b[0m\u001b[0;34m,\u001b[0m \u001b[0mcolumns\u001b[0m\u001b[0;34m,\u001b[0m \u001b[0mdtype\u001b[0m\u001b[0;34m=\u001b[0m\u001b[0mdtype\u001b[0m\u001b[0;34m,\u001b[0m \u001b[0mcopy\u001b[0m\u001b[0;34m=\u001b[0m\u001b[0mcopy\u001b[0m\u001b[0;34m,\u001b[0m \u001b[0mtyp\u001b[0m\u001b[0;34m=\u001b[0m\u001b[0mmanager\u001b[0m\u001b[0;34m)\u001b[0m\u001b[0;34m\u001b[0m\u001b[0;34m\u001b[0m\u001b[0m\n\u001b[0m\u001b[1;32m    734\u001b[0m         \u001b[0;32melif\u001b[0m \u001b[0misinstance\u001b[0m\u001b[0;34m(\u001b[0m\u001b[0mdata\u001b[0m\u001b[0;34m,\u001b[0m \u001b[0mma\u001b[0m\u001b[0;34m.\u001b[0m\u001b[0mMaskedArray\u001b[0m\u001b[0;34m)\u001b[0m\u001b[0;34m:\u001b[0m\u001b[0;34m\u001b[0m\u001b[0;34m\u001b[0m\u001b[0m\n\u001b[1;32m    735\u001b[0m             \u001b[0;32mfrom\u001b[0m \u001b[0mnumpy\u001b[0m\u001b[0;34m.\u001b[0m\u001b[0mma\u001b[0m \u001b[0;32mimport\u001b[0m \u001b[0mmrecords\u001b[0m\u001b[0;34m\u001b[0m\u001b[0;34m\u001b[0m\u001b[0m\n",
            "\u001b[0;32m/usr/local/lib/python3.10/dist-packages/pandas/core/internals/construction.py\u001b[0m in \u001b[0;36mdict_to_mgr\u001b[0;34m(data, index, columns, dtype, typ, copy)\u001b[0m\n\u001b[1;32m    501\u001b[0m             \u001b[0marrays\u001b[0m \u001b[0;34m=\u001b[0m \u001b[0;34m[\u001b[0m\u001b[0mx\u001b[0m\u001b[0;34m.\u001b[0m\u001b[0mcopy\u001b[0m\u001b[0;34m(\u001b[0m\u001b[0;34m)\u001b[0m \u001b[0;32mif\u001b[0m \u001b[0mhasattr\u001b[0m\u001b[0;34m(\u001b[0m\u001b[0mx\u001b[0m\u001b[0;34m,\u001b[0m \u001b[0;34m\"dtype\"\u001b[0m\u001b[0;34m)\u001b[0m \u001b[0;32melse\u001b[0m \u001b[0mx\u001b[0m \u001b[0;32mfor\u001b[0m \u001b[0mx\u001b[0m \u001b[0;32min\u001b[0m \u001b[0marrays\u001b[0m\u001b[0;34m]\u001b[0m\u001b[0;34m\u001b[0m\u001b[0;34m\u001b[0m\u001b[0m\n\u001b[1;32m    502\u001b[0m \u001b[0;34m\u001b[0m\u001b[0m\n\u001b[0;32m--> 503\u001b[0;31m     \u001b[0;32mreturn\u001b[0m \u001b[0marrays_to_mgr\u001b[0m\u001b[0;34m(\u001b[0m\u001b[0marrays\u001b[0m\u001b[0;34m,\u001b[0m \u001b[0mcolumns\u001b[0m\u001b[0;34m,\u001b[0m \u001b[0mindex\u001b[0m\u001b[0;34m,\u001b[0m \u001b[0mdtype\u001b[0m\u001b[0;34m=\u001b[0m\u001b[0mdtype\u001b[0m\u001b[0;34m,\u001b[0m \u001b[0mtyp\u001b[0m\u001b[0;34m=\u001b[0m\u001b[0mtyp\u001b[0m\u001b[0;34m,\u001b[0m \u001b[0mconsolidate\u001b[0m\u001b[0;34m=\u001b[0m\u001b[0mcopy\u001b[0m\u001b[0;34m)\u001b[0m\u001b[0;34m\u001b[0m\u001b[0;34m\u001b[0m\u001b[0m\n\u001b[0m\u001b[1;32m    504\u001b[0m \u001b[0;34m\u001b[0m\u001b[0m\n\u001b[1;32m    505\u001b[0m \u001b[0;34m\u001b[0m\u001b[0m\n",
            "\u001b[0;32m/usr/local/lib/python3.10/dist-packages/pandas/core/internals/construction.py\u001b[0m in \u001b[0;36marrays_to_mgr\u001b[0;34m(arrays, columns, index, dtype, verify_integrity, typ, consolidate)\u001b[0m\n\u001b[1;32m    112\u001b[0m         \u001b[0;31m# figure out the index, if necessary\u001b[0m\u001b[0;34m\u001b[0m\u001b[0;34m\u001b[0m\u001b[0m\n\u001b[1;32m    113\u001b[0m         \u001b[0;32mif\u001b[0m \u001b[0mindex\u001b[0m \u001b[0;32mis\u001b[0m \u001b[0;32mNone\u001b[0m\u001b[0;34m:\u001b[0m\u001b[0;34m\u001b[0m\u001b[0;34m\u001b[0m\u001b[0m\n\u001b[0;32m--> 114\u001b[0;31m             \u001b[0mindex\u001b[0m \u001b[0;34m=\u001b[0m \u001b[0m_extract_index\u001b[0m\u001b[0;34m(\u001b[0m\u001b[0marrays\u001b[0m\u001b[0;34m)\u001b[0m\u001b[0;34m\u001b[0m\u001b[0;34m\u001b[0m\u001b[0m\n\u001b[0m\u001b[1;32m    115\u001b[0m         \u001b[0;32melse\u001b[0m\u001b[0;34m:\u001b[0m\u001b[0;34m\u001b[0m\u001b[0;34m\u001b[0m\u001b[0m\n\u001b[1;32m    116\u001b[0m             \u001b[0mindex\u001b[0m \u001b[0;34m=\u001b[0m \u001b[0mensure_index\u001b[0m\u001b[0;34m(\u001b[0m\u001b[0mindex\u001b[0m\u001b[0;34m)\u001b[0m\u001b[0;34m\u001b[0m\u001b[0;34m\u001b[0m\u001b[0m\n",
            "\u001b[0;32m/usr/local/lib/python3.10/dist-packages/pandas/core/internals/construction.py\u001b[0m in \u001b[0;36m_extract_index\u001b[0;34m(data)\u001b[0m\n\u001b[1;32m    678\u001b[0m \u001b[0;34m\u001b[0m\u001b[0m\n\u001b[1;32m    679\u001b[0m         \u001b[0;32mif\u001b[0m \u001b[0mhave_dicts\u001b[0m\u001b[0;34m:\u001b[0m\u001b[0;34m\u001b[0m\u001b[0;34m\u001b[0m\u001b[0m\n\u001b[0;32m--> 680\u001b[0;31m             raise ValueError(\n\u001b[0m\u001b[1;32m    681\u001b[0m                 \u001b[0;34m\"Mixing dicts with non-Series may lead to ambiguous ordering.\"\u001b[0m\u001b[0;34m\u001b[0m\u001b[0;34m\u001b[0m\u001b[0m\n\u001b[1;32m    682\u001b[0m             )\n",
            "\u001b[0;31mValueError\u001b[0m: Mixing dicts with non-Series may lead to ambiguous ordering."
          ]
        }
      ]
    },
    {
      "cell_type": "markdown",
      "source": [
        "Attempts to reconfig code with assistance of ChatGPT\n",
        "By calling list() on each value, especially dictionary .values(), you standardize the format and avoid scalar values causing the issue.\n",
        "\n",
        "list(beta_against_SPY.values())\n",
        "\n"
      ],
      "metadata": {
        "id": "gBg-qLXVs9u8"
      }
    },
    {
      "cell_type": "code",
      "source": [
        "menu = {\n",
        "    \"dish\": [\"penne alla vodka\", \"panna cotta\", \"spaghetti arrabbiata\", \"caprese\", \"MVP\", \"pizza\", \"pesto gnocchi\", \"tiramisu\", \"gelato\", \"bruschetta\", \"eggplant parm\"],\n",
        "    \"category\": [\"pasta\", \"dessert\", \"pasta\", \"salad\", \"pizza\", \"pizza\", \"pasta\", \"dessert\",\"dessert\", \"appetizers\", \"mains\"],\n",
        "    \"price\": [11,14,15,17,18,19,23,25,26,27,28]\n",
        "}\n",
        "\n",
        "menu_df = pd.DataFrame(menu)\n",
        "\n",
        "menu_df.head()"
      ],
      "metadata": {
        "colab": {
          "base_uri": "https://localhost:8080/",
          "height": 206
        },
        "id": "XDulrhokSHxH",
        "outputId": "8bfe5409-31eb-4d76-85ce-09fce1dacf09"
      },
      "execution_count": null,
      "outputs": [
        {
          "output_type": "execute_result",
          "data": {
            "text/plain": [
              "                   dish category  price\n",
              "0      penne alla vodka    pasta     11\n",
              "1           panna cotta  dessert     14\n",
              "2  spaghetti arrabbiata    pasta     15\n",
              "3               caprese    salad     17\n",
              "4                   MVP    pizza     18"
            ],
            "text/html": [
              "\n",
              "  <div id=\"df-e6c9237e-60e1-48e6-be9e-a5bfc5985558\" class=\"colab-df-container\">\n",
              "    <div>\n",
              "<style scoped>\n",
              "    .dataframe tbody tr th:only-of-type {\n",
              "        vertical-align: middle;\n",
              "    }\n",
              "\n",
              "    .dataframe tbody tr th {\n",
              "        vertical-align: top;\n",
              "    }\n",
              "\n",
              "    .dataframe thead th {\n",
              "        text-align: right;\n",
              "    }\n",
              "</style>\n",
              "<table border=\"1\" class=\"dataframe\">\n",
              "  <thead>\n",
              "    <tr style=\"text-align: right;\">\n",
              "      <th></th>\n",
              "      <th>dish</th>\n",
              "      <th>category</th>\n",
              "      <th>price</th>\n",
              "    </tr>\n",
              "  </thead>\n",
              "  <tbody>\n",
              "    <tr>\n",
              "      <th>0</th>\n",
              "      <td>penne alla vodka</td>\n",
              "      <td>pasta</td>\n",
              "      <td>11</td>\n",
              "    </tr>\n",
              "    <tr>\n",
              "      <th>1</th>\n",
              "      <td>panna cotta</td>\n",
              "      <td>dessert</td>\n",
              "      <td>14</td>\n",
              "    </tr>\n",
              "    <tr>\n",
              "      <th>2</th>\n",
              "      <td>spaghetti arrabbiata</td>\n",
              "      <td>pasta</td>\n",
              "      <td>15</td>\n",
              "    </tr>\n",
              "    <tr>\n",
              "      <th>3</th>\n",
              "      <td>caprese</td>\n",
              "      <td>salad</td>\n",
              "      <td>17</td>\n",
              "    </tr>\n",
              "    <tr>\n",
              "      <th>4</th>\n",
              "      <td>MVP</td>\n",
              "      <td>pizza</td>\n",
              "      <td>18</td>\n",
              "    </tr>\n",
              "  </tbody>\n",
              "</table>\n",
              "</div>\n",
              "    <div class=\"colab-df-buttons\">\n",
              "\n",
              "  <div class=\"colab-df-container\">\n",
              "    <button class=\"colab-df-convert\" onclick=\"convertToInteractive('df-e6c9237e-60e1-48e6-be9e-a5bfc5985558')\"\n",
              "            title=\"Convert this dataframe to an interactive table.\"\n",
              "            style=\"display:none;\">\n",
              "\n",
              "  <svg xmlns=\"http://www.w3.org/2000/svg\" height=\"24px\" viewBox=\"0 -960 960 960\">\n",
              "    <path d=\"M120-120v-720h720v720H120Zm60-500h600v-160H180v160Zm220 220h160v-160H400v160Zm0 220h160v-160H400v160ZM180-400h160v-160H180v160Zm440 0h160v-160H620v160ZM180-180h160v-160H180v160Zm440 0h160v-160H620v160Z\"/>\n",
              "  </svg>\n",
              "    </button>\n",
              "\n",
              "  <style>\n",
              "    .colab-df-container {\n",
              "      display:flex;\n",
              "      gap: 12px;\n",
              "    }\n",
              "\n",
              "    .colab-df-convert {\n",
              "      background-color: #E8F0FE;\n",
              "      border: none;\n",
              "      border-radius: 50%;\n",
              "      cursor: pointer;\n",
              "      display: none;\n",
              "      fill: #1967D2;\n",
              "      height: 32px;\n",
              "      padding: 0 0 0 0;\n",
              "      width: 32px;\n",
              "    }\n",
              "\n",
              "    .colab-df-convert:hover {\n",
              "      background-color: #E2EBFA;\n",
              "      box-shadow: 0px 1px 2px rgba(60, 64, 67, 0.3), 0px 1px 3px 1px rgba(60, 64, 67, 0.15);\n",
              "      fill: #174EA6;\n",
              "    }\n",
              "\n",
              "    .colab-df-buttons div {\n",
              "      margin-bottom: 4px;\n",
              "    }\n",
              "\n",
              "    [theme=dark] .colab-df-convert {\n",
              "      background-color: #3B4455;\n",
              "      fill: #D2E3FC;\n",
              "    }\n",
              "\n",
              "    [theme=dark] .colab-df-convert:hover {\n",
              "      background-color: #434B5C;\n",
              "      box-shadow: 0px 1px 3px 1px rgba(0, 0, 0, 0.15);\n",
              "      filter: drop-shadow(0px 1px 2px rgba(0, 0, 0, 0.3));\n",
              "      fill: #FFFFFF;\n",
              "    }\n",
              "  </style>\n",
              "\n",
              "    <script>\n",
              "      const buttonEl =\n",
              "        document.querySelector('#df-e6c9237e-60e1-48e6-be9e-a5bfc5985558 button.colab-df-convert');\n",
              "      buttonEl.style.display =\n",
              "        google.colab.kernel.accessAllowed ? 'block' : 'none';\n",
              "\n",
              "      async function convertToInteractive(key) {\n",
              "        const element = document.querySelector('#df-e6c9237e-60e1-48e6-be9e-a5bfc5985558');\n",
              "        const dataTable =\n",
              "          await google.colab.kernel.invokeFunction('convertToInteractive',\n",
              "                                                    [key], {});\n",
              "        if (!dataTable) return;\n",
              "\n",
              "        const docLinkHtml = 'Like what you see? Visit the ' +\n",
              "          '<a target=\"_blank\" href=https://colab.research.google.com/notebooks/data_table.ipynb>data table notebook</a>'\n",
              "          + ' to learn more about interactive tables.';\n",
              "        element.innerHTML = '';\n",
              "        dataTable['output_type'] = 'display_data';\n",
              "        await google.colab.output.renderOutput(dataTable, element);\n",
              "        const docLink = document.createElement('div');\n",
              "        docLink.innerHTML = docLinkHtml;\n",
              "        element.appendChild(docLink);\n",
              "      }\n",
              "    </script>\n",
              "  </div>\n",
              "\n",
              "\n",
              "<div id=\"df-cfbde470-ed0e-4d87-ae3a-d4710cc4e2f2\">\n",
              "  <button class=\"colab-df-quickchart\" onclick=\"quickchart('df-cfbde470-ed0e-4d87-ae3a-d4710cc4e2f2')\"\n",
              "            title=\"Suggest charts\"\n",
              "            style=\"display:none;\">\n",
              "\n",
              "<svg xmlns=\"http://www.w3.org/2000/svg\" height=\"24px\"viewBox=\"0 0 24 24\"\n",
              "     width=\"24px\">\n",
              "    <g>\n",
              "        <path d=\"M19 3H5c-1.1 0-2 .9-2 2v14c0 1.1.9 2 2 2h14c1.1 0 2-.9 2-2V5c0-1.1-.9-2-2-2zM9 17H7v-7h2v7zm4 0h-2V7h2v10zm4 0h-2v-4h2v4z\"/>\n",
              "    </g>\n",
              "</svg>\n",
              "  </button>\n",
              "\n",
              "<style>\n",
              "  .colab-df-quickchart {\n",
              "      --bg-color: #E8F0FE;\n",
              "      --fill-color: #1967D2;\n",
              "      --hover-bg-color: #E2EBFA;\n",
              "      --hover-fill-color: #174EA6;\n",
              "      --disabled-fill-color: #AAA;\n",
              "      --disabled-bg-color: #DDD;\n",
              "  }\n",
              "\n",
              "  [theme=dark] .colab-df-quickchart {\n",
              "      --bg-color: #3B4455;\n",
              "      --fill-color: #D2E3FC;\n",
              "      --hover-bg-color: #434B5C;\n",
              "      --hover-fill-color: #FFFFFF;\n",
              "      --disabled-bg-color: #3B4455;\n",
              "      --disabled-fill-color: #666;\n",
              "  }\n",
              "\n",
              "  .colab-df-quickchart {\n",
              "    background-color: var(--bg-color);\n",
              "    border: none;\n",
              "    border-radius: 50%;\n",
              "    cursor: pointer;\n",
              "    display: none;\n",
              "    fill: var(--fill-color);\n",
              "    height: 32px;\n",
              "    padding: 0;\n",
              "    width: 32px;\n",
              "  }\n",
              "\n",
              "  .colab-df-quickchart:hover {\n",
              "    background-color: var(--hover-bg-color);\n",
              "    box-shadow: 0 1px 2px rgba(60, 64, 67, 0.3), 0 1px 3px 1px rgba(60, 64, 67, 0.15);\n",
              "    fill: var(--button-hover-fill-color);\n",
              "  }\n",
              "\n",
              "  .colab-df-quickchart-complete:disabled,\n",
              "  .colab-df-quickchart-complete:disabled:hover {\n",
              "    background-color: var(--disabled-bg-color);\n",
              "    fill: var(--disabled-fill-color);\n",
              "    box-shadow: none;\n",
              "  }\n",
              "\n",
              "  .colab-df-spinner {\n",
              "    border: 2px solid var(--fill-color);\n",
              "    border-color: transparent;\n",
              "    border-bottom-color: var(--fill-color);\n",
              "    animation:\n",
              "      spin 1s steps(1) infinite;\n",
              "  }\n",
              "\n",
              "  @keyframes spin {\n",
              "    0% {\n",
              "      border-color: transparent;\n",
              "      border-bottom-color: var(--fill-color);\n",
              "      border-left-color: var(--fill-color);\n",
              "    }\n",
              "    20% {\n",
              "      border-color: transparent;\n",
              "      border-left-color: var(--fill-color);\n",
              "      border-top-color: var(--fill-color);\n",
              "    }\n",
              "    30% {\n",
              "      border-color: transparent;\n",
              "      border-left-color: var(--fill-color);\n",
              "      border-top-color: var(--fill-color);\n",
              "      border-right-color: var(--fill-color);\n",
              "    }\n",
              "    40% {\n",
              "      border-color: transparent;\n",
              "      border-right-color: var(--fill-color);\n",
              "      border-top-color: var(--fill-color);\n",
              "    }\n",
              "    60% {\n",
              "      border-color: transparent;\n",
              "      border-right-color: var(--fill-color);\n",
              "    }\n",
              "    80% {\n",
              "      border-color: transparent;\n",
              "      border-right-color: var(--fill-color);\n",
              "      border-bottom-color: var(--fill-color);\n",
              "    }\n",
              "    90% {\n",
              "      border-color: transparent;\n",
              "      border-bottom-color: var(--fill-color);\n",
              "    }\n",
              "  }\n",
              "</style>\n",
              "\n",
              "  <script>\n",
              "    async function quickchart(key) {\n",
              "      const quickchartButtonEl =\n",
              "        document.querySelector('#' + key + ' button');\n",
              "      quickchartButtonEl.disabled = true;  // To prevent multiple clicks.\n",
              "      quickchartButtonEl.classList.add('colab-df-spinner');\n",
              "      try {\n",
              "        const charts = await google.colab.kernel.invokeFunction(\n",
              "            'suggestCharts', [key], {});\n",
              "      } catch (error) {\n",
              "        console.error('Error during call to suggestCharts:', error);\n",
              "      }\n",
              "      quickchartButtonEl.classList.remove('colab-df-spinner');\n",
              "      quickchartButtonEl.classList.add('colab-df-quickchart-complete');\n",
              "    }\n",
              "    (() => {\n",
              "      let quickchartButtonEl =\n",
              "        document.querySelector('#df-cfbde470-ed0e-4d87-ae3a-d4710cc4e2f2 button');\n",
              "      quickchartButtonEl.style.display =\n",
              "        google.colab.kernel.accessAllowed ? 'block' : 'none';\n",
              "    })();\n",
              "  </script>\n",
              "</div>\n",
              "\n",
              "    </div>\n",
              "  </div>\n"
            ],
            "application/vnd.google.colaboratory.intrinsic+json": {
              "type": "dataframe",
              "variable_name": "menu_df",
              "summary": "{\n  \"name\": \"menu_df\",\n  \"rows\": 11,\n  \"fields\": [\n    {\n      \"column\": \"dish\",\n      \"properties\": {\n        \"dtype\": \"string\",\n        \"num_unique_values\": 11,\n        \"samples\": [\n          \"pizza\",\n          \"penne alla vodka\",\n          \"bruschetta\"\n        ],\n        \"semantic_type\": \"\",\n        \"description\": \"\"\n      }\n    },\n    {\n      \"column\": \"category\",\n      \"properties\": {\n        \"dtype\": \"string\",\n        \"num_unique_values\": 6,\n        \"samples\": [\n          \"pasta\",\n          \"dessert\",\n          \"mains\"\n        ],\n        \"semantic_type\": \"\",\n        \"description\": \"\"\n      }\n    },\n    {\n      \"column\": \"price\",\n      \"properties\": {\n        \"dtype\": \"number\",\n        \"std\": 5,\n        \"min\": 11,\n        \"max\": 28,\n        \"num_unique_values\": 11,\n        \"samples\": [\n          19,\n          11,\n          27\n        ],\n        \"semantic_type\": \"\",\n        \"description\": \"\"\n      }\n    }\n  ]\n}"
            }
          },
          "metadata": {},
          "execution_count": 18
        }
      ]
    },
    {
      "cell_type": "code",
      "source": [
        "import pandas as pd\n",
        "portfolio = {\n",
        "    'Ticker': assets,\n",
        "    'Portfolio Weight': weights,\n",
        "    'Annualized Volatility': list(annualized_volatility),\n",
        "    'Beta against SPY': list(beta_against_SPY.values()),\n",
        "    'Beta against IWM': list(beta_against_IWN.values()),\n",
        "    'Beta against DIA': list(beta_against_DIA.values()),\n",
        "    'Average Weekly Drawdown': list(average_weekly_drawdown.values()),\n",
        "    'Max Weekly Drawdown': list(maximum_weekly_drawdown.values()),\n",
        "    'Total Return': list(total_returns.values()),\n",
        "    'Annualized Total Return': list(annualized_total_returns.values())\n",
        "}\n",
        "\n",
        "portfolio_df = pd.DataFrame(portfolio)\n",
        "portfolio_df.set_index('Ticker', inplace=True)\n",
        "\n",
        "columns = ['Portfolio Weight', 'Annualized Volatility', 'Beta against SPY', 'Beta against IWM', 'Beta against DIA', 'Average Weekly Drawdown', 'Max Weekly Drawdown', 'Total Return', 'Annualized Total Return']\n",
        "\n",
        "portfolio_df = portfolio_df[columns]\n",
        "\n",
        "print(portfolio_df)\n"
      ],
      "metadata": {
        "colab": {
          "base_uri": "https://localhost:8080/"
        },
        "id": "6zSg_etfVaa0",
        "outputId": "672eeab6-d606-4a25-f60b-a515e79a2632"
      },
      "execution_count": null,
      "outputs": [
        {
          "output_type": "stream",
          "name": "stdout",
          "text": [
            "        Portfolio Weight  Annualized Volatility  Beta against SPY  \\\n",
            "Ticker                                                              \n",
            "GOOG            0.142857               0.225577          2.017826   \n",
            "AMZN            0.142857               0.324024          2.512683   \n",
            "MSFT            0.142857               0.264659          1.609522   \n",
            "NVDA            0.142857               0.347259          5.340173   \n",
            "META            0.142857               0.201909          2.148026   \n",
            "TSLA            0.142857               0.653122          4.712368   \n",
            "AAPL            0.142857               0.627314          1.568667   \n",
            "\n",
            "        Beta against IWM  Beta against DIA  Average Weekly Drawdown  \\\n",
            "Ticker                                                                \n",
            "GOOG            0.677415          1.634743                -0.033132   \n",
            "AMZN            0.898668          2.168590                -0.033948   \n",
            "MSFT            0.447187          1.330379                -0.025322   \n",
            "NVDA            1.504155          3.420345                -0.061957   \n",
            "META            0.350137          1.215926                -0.042026   \n",
            "TSLA            1.518488          3.572597                -0.064315   \n",
            "AAPL            0.520493          1.339244                -0.026906   \n",
            "\n",
            "        Max Weekly Drawdown  Total Return  Annualized Total Return  \n",
            "Ticker                                                              \n",
            "GOOG              -0.119326  94357.817519                98.391833  \n",
            "AMZN              -0.102043  94357.817519                98.391833  \n",
            "MSFT              -0.059458  94357.817519                98.391833  \n",
            "NVDA              -0.143941  94357.817519                98.391833  \n",
            "META              -0.178635  94357.817519                98.391833  \n",
            "TSLA              -0.168177  94357.817519                98.391833  \n",
            "AAPL              -0.098581  94357.817519                98.391833  \n"
          ]
        }
      ]
    },
    {
      "cell_type": "markdown",
      "source": [
        "##Part 2: Portfolio Risk Against the Three ETFs"
      ],
      "metadata": {
        "id": "VjZBV0WHAywa"
      }
    },
    {
      "cell_type": "markdown",
      "source": [
        "##Column 1"
      ],
      "metadata": {
        "id": "q-joqGYAA5hA"
      }
    },
    {
      "cell_type": "code",
      "source": [
        "import pandas as pd\n",
        "assets = [\"GOOG\", \"AMZN\", \"MSFT\", \"NVDA\", \"META\", \"TSLA\", \"AAPL\"]\n",
        "benchmarks = [\"SPY\", \"IWM\", \"DIA\"]"
      ],
      "metadata": {
        "id": "Sus3iaXQBNDk"
      },
      "execution_count": null,
      "outputs": []
    },
    {
      "cell_type": "markdown",
      "source": [
        "##Column 2, 3"
      ],
      "metadata": {
        "id": "0wOM4HZDUDRx"
      }
    },
    {
      "cell_type": "markdown",
      "source": [
        "import numpy as np\n",
        "\n",
        "x represents the total sale in dollars\n",
        "x = [215, 325, 185, 332, 406, 522, 412,\n",
        "     614, 544, 421, 445, 408],\n",
        "\n",
        "y represents the temperature on each day of sale\n",
        "y = [14.2, 16.4, 11.9, 15.2, 18.5, 22.1,\n",
        "     19.4, 25.1, 23.4, 18.1, 22.6, 17.2]\n",
        "\n",
        "create correlation matrix\n",
        "matrix = np.corrcoef(x, y)\n",
        "print(matrix)\n",
        "\n",
        "source: Geeksforgeeks.org"
      ],
      "metadata": {
        "id": "OqvWPWOY-ZH-"
      }
    },
    {
      "cell_type": "markdown",
      "source": [
        "DataFrame.corr(method='pearson', min_periods=1, numeric_only=False)\n",
        "\n",
        "Guiding code: Pandas.pydata.org and G"
      ],
      "metadata": {
        "id": "llF110x_FKfm"
      }
    },
    {
      "cell_type": "code",
      "source": [
        "corr_prices = yf.download(assets + benchmarks, start=start_date, end=end_date)['Adj Close']\n",
        "corr_returns = corr_prices.pct_change().dropna()\n",
        "\n",
        "\n",
        "corr_end_date = datetime.today()\n",
        "corr_start_date = end_date - timedelta(days=365)\n",
        "\n",
        "correlation_matrix = corr_returns.corr()\n",
        "covariance_matrix = corr_returns.cov()\n",
        "\n",
        "\n",
        "correlation_with_benchmarks = correlation_matrix.loc[assets, benchmarks]\n",
        "covariance_with_benchmarks = covariance_matrix.loc[assets, benchmarks]\n",
        "\n",
        "print(correlation_with_benchmarks)\n",
        "print(covariance_with_benchmarks)"
      ],
      "metadata": {
        "colab": {
          "base_uri": "https://localhost:8080/"
        },
        "id": "sdvuXrmgEFX6",
        "outputId": "334c535f-f6ed-40ce-d3f3-f0ca18b04906"
      },
      "execution_count": null,
      "outputs": [
        {
          "output_type": "stream",
          "name": "stderr",
          "text": [
            "[*********************100%***********************]  10 of 10 completed\n"
          ]
        },
        {
          "output_type": "stream",
          "name": "stdout",
          "text": [
            "Ticker       SPY       IWM       DIA\n",
            "Ticker                              \n",
            "GOOG    0.743602  0.479198  0.544303\n",
            "AMZN    0.756395  0.519478  0.589637\n",
            "MSFT    0.777557  0.414756  0.580567\n",
            "NVDA    0.797549  0.431354  0.461543\n",
            "META    0.603415  0.188852  0.308713\n",
            "TSLA    0.732748  0.453367  0.501894\n",
            "AAPL    0.678462  0.432052  0.523751\n",
            "Ticker       SPY       IWM       DIA\n",
            "Ticker                              \n",
            "GOOG    0.000124  0.000125  0.000075\n",
            "AMZN    0.000155  0.000166  0.000099\n",
            "MSFT    0.000099  0.000082  0.000061\n",
            "NVDA    0.000329  0.000278  0.000156\n",
            "META    0.000132  0.000065  0.000056\n",
            "TSLA    0.000290  0.000280  0.000163\n",
            "AAPL    0.000097  0.000096  0.000061\n"
          ]
        }
      ]
    },
    {
      "cell_type": "markdown",
      "source": [
        "##Column  4"
      ],
      "metadata": {
        "id": "I8D3M2tRUIB-"
      }
    },
    {
      "cell_type": "markdown",
      "source": [
        "Tracking error: standard deviation for the difference between the portfolio returns and the benchmark (ETF) returns."
      ],
      "metadata": {
        "id": "-5EyU8EaTw8w"
      }
    },
    {
      "cell_type": "code",
      "source": [
        "\n",
        "tracking_end_date = datetime.today()\n",
        "tracking_start_date = tracking_end_date - timedelta(days=3650)\n",
        "trackingerror_prices = yf.download(benchmarks, start=tracking_start_date, end=tracking_end_date)['Adj Close']\n",
        "\n",
        "trackingerror_returns = trackingerror_prices.pct_change().dropna()\n",
        "\n",
        "tracking_errorspy = (trackingerror_returns - trackingerror_returns['SPY']).abs().mean()\n",
        "tracking_erroriwn = (trackingerror_returns - trackingerror_returns['IWM']).abs().mean()\n",
        "tracking_errordia = (trackingerror_returns - trackingerror_returns['DIA']).abs().mean()\n"
      ],
      "metadata": {
        "colab": {
          "base_uri": "https://localhost:8080/",
          "height": 416
        },
        "id": "_1sV-tmLYxRn",
        "outputId": "77af1e12-ecab-4c80-fd3a-cc601cfe80c8"
      },
      "execution_count": null,
      "outputs": [
        {
          "output_type": "stream",
          "name": "stderr",
          "text": [
            "[*********************100%***********************]  3 of 3 completed\n"
          ]
        },
        {
          "output_type": "execute_result",
          "data": {
            "text/plain": [
              "2024-09-20 00:00:00+00:00   NaN\n",
              "2024-09-23 00:00:00+00:00   NaN\n",
              "2024-09-24 00:00:00+00:00   NaN\n",
              "2024-09-25 00:00:00+00:00   NaN\n",
              "2024-09-26 00:00:00+00:00   NaN\n",
              "2024-09-27 00:00:00+00:00   NaN\n",
              "2024-09-30 00:00:00+00:00   NaN\n",
              "DIA                         NaN\n",
              "IWM                         NaN\n",
              "SPY                         NaN\n",
              "dtype: float64"
            ],
            "text/html": [
              "<div>\n",
              "<style scoped>\n",
              "    .dataframe tbody tr th:only-of-type {\n",
              "        vertical-align: middle;\n",
              "    }\n",
              "\n",
              "    .dataframe tbody tr th {\n",
              "        vertical-align: top;\n",
              "    }\n",
              "\n",
              "    .dataframe thead th {\n",
              "        text-align: right;\n",
              "    }\n",
              "</style>\n",
              "<table border=\"1\" class=\"dataframe\">\n",
              "  <thead>\n",
              "    <tr style=\"text-align: right;\">\n",
              "      <th></th>\n",
              "      <th>0</th>\n",
              "    </tr>\n",
              "  </thead>\n",
              "  <tbody>\n",
              "    <tr>\n",
              "      <th>2024-09-20 00:00:00+00:00</th>\n",
              "      <td>NaN</td>\n",
              "    </tr>\n",
              "    <tr>\n",
              "      <th>2024-09-23 00:00:00+00:00</th>\n",
              "      <td>NaN</td>\n",
              "    </tr>\n",
              "    <tr>\n",
              "      <th>2024-09-24 00:00:00+00:00</th>\n",
              "      <td>NaN</td>\n",
              "    </tr>\n",
              "    <tr>\n",
              "      <th>2024-09-25 00:00:00+00:00</th>\n",
              "      <td>NaN</td>\n",
              "    </tr>\n",
              "    <tr>\n",
              "      <th>2024-09-26 00:00:00+00:00</th>\n",
              "      <td>NaN</td>\n",
              "    </tr>\n",
              "    <tr>\n",
              "      <th>2024-09-27 00:00:00+00:00</th>\n",
              "      <td>NaN</td>\n",
              "    </tr>\n",
              "    <tr>\n",
              "      <th>2024-09-30 00:00:00+00:00</th>\n",
              "      <td>NaN</td>\n",
              "    </tr>\n",
              "    <tr>\n",
              "      <th>DIA</th>\n",
              "      <td>NaN</td>\n",
              "    </tr>\n",
              "    <tr>\n",
              "      <th>IWM</th>\n",
              "      <td>NaN</td>\n",
              "    </tr>\n",
              "    <tr>\n",
              "      <th>SPY</th>\n",
              "      <td>NaN</td>\n",
              "    </tr>\n",
              "  </tbody>\n",
              "</table>\n",
              "</div><br><label><b>dtype:</b> float64</label>"
            ]
          },
          "metadata": {},
          "execution_count": 55
        }
      ]
    },
    {
      "cell_type": "markdown",
      "source": [
        "##Column 5: Sharp Ratio (using risk free rate)\n",
        "\n",
        "sharpe ratio= (portfolio return - risk free rate)/ portfolio volatility\n",
        "\n",
        "Return from a risk-free investment (e.g., U.S. Treasury bond yield). You can use a constant value like 0.02 (or 2%) as a placeholder."
      ],
      "metadata": {
        "id": "OxS6c8RQYShh"
      }
    },
    {
      "cell_type": "code",
      "source": [
        "# @title\n",
        "sr_end_date = datetime.today()\n",
        "sr_start_date = sr_end_date - timedelta(days=365)\n",
        "\n",
        "sr_prices = yf.download(assets + benchmarks, start=sr_start_date, end=sr_end_date)['Adj Close']\n",
        "sr_returns = sr_prices.pct_change().dropna()\n",
        "sr_mean_returns = sr_returns.mean()\n",
        "\n",
        "sharpe_ratio = sr_returns.mean() / sr_returns.std()\n",
        "print(sharpe_ratio)\n"
      ],
      "metadata": {
        "colab": {
          "base_uri": "https://localhost:8080/"
        },
        "id": "mkR95h7eIs6t",
        "outputId": "64233cbd-b0bb-4ddc-ff13-d606bea9c14e"
      },
      "execution_count": null,
      "outputs": [
        {
          "output_type": "stream",
          "name": "stderr",
          "text": [
            "[*********************100%***********************]  10 of 10 completed"
          ]
        },
        {
          "output_type": "stream",
          "name": "stdout",
          "text": [
            "Ticker\n",
            "AAPL    0.090409\n",
            "AMZN    0.090954\n",
            "DIA     0.151086\n",
            "GOOG    0.055933\n",
            "IWM     0.079687\n",
            "META    0.119031\n",
            "MSFT    0.100054\n",
            "NVDA    0.137197\n",
            "SPY     0.158267\n",
            "TSLA    0.020636\n",
            "dtype: float64\n"
          ]
        },
        {
          "output_type": "stream",
          "name": "stderr",
          "text": [
            "\n"
          ]
        }
      ]
    },
    {
      "cell_type": "markdown",
      "source": [
        "##Column 6\n",
        "Volatility spread  =  portfolio-benchmark"
      ],
      "metadata": {
        "id": "mNB11X3eftI9"
      }
    },
    {
      "cell_type": "code",
      "source": [
        "sp_end_date = datetime.today()\n",
        "sp_start_date = sp_end_date - timedelta(days=365)\n",
        "\n",
        "sp_prices = yf.download(assets, start=sp_start_date, end=sp_end_date)['Adj Close']\n",
        "sp_returns = sp_prices.pct_change()\n",
        "sp_daily_volatility = sp_returns.std()\n",
        "sp_annualized_volatility = sp_daily_volatility * np.sqrt(252)\n",
        "\n",
        "portfolio_volatility = np.sqrt(np.dot(weights.T, np.dot(np.diag(sp_annualized_volatility**2), weights)))\n",
        "\n",
        "print(portfolio_volatility)"
      ],
      "metadata": {
        "colab": {
          "base_uri": "https://localhost:8080/"
        },
        "id": "33_IGY7NfBGT",
        "outputId": "c4527548-33ab-4600-8d34-88cc45dc5899"
      },
      "execution_count": null,
      "outputs": [
        {
          "output_type": "stream",
          "name": "stderr",
          "text": [
            "[*********************100%***********************]  7 of 7 completed"
          ]
        },
        {
          "output_type": "stream",
          "name": "stdout",
          "text": [
            "0.1392050540536427\n"
          ]
        },
        {
          "output_type": "stream",
          "name": "stderr",
          "text": [
            "\n"
          ]
        }
      ]
    },
    {
      "cell_type": "code",
      "source": [
        "bweights = np.array([1 / len(benchmarks)] * len(benchmarks))\n",
        "print(bweights)\n",
        "\n",
        "spb_prices = yf.download(benchmarks, start=sp_start_date, end=sp_end_date)['Adj Close']\n",
        "spb_returns = spb_prices.pct_change()\n",
        "spb_daily_volatility = spb_returns.std()\n",
        "spb_annualized_volatility = spb_daily_volatility * np.sqrt(252)\n",
        "\n",
        "benchmark_volatility = np.sqrt(np.dot(bweights.T, np.dot(np.diag(spb_annualized_volatility**2), bweights)))\n",
        "\n",
        "print(benchmark_volatility)"
      ],
      "metadata": {
        "colab": {
          "base_uri": "https://localhost:8080/"
        },
        "id": "HskoyijpOINT",
        "outputId": "173cea6e-f2b1-4d0d-9ddb-69d0e04a4761"
      },
      "execution_count": null,
      "outputs": [
        {
          "output_type": "stream",
          "name": "stderr",
          "text": [
            "\r[                       0%                       ]"
          ]
        },
        {
          "output_type": "stream",
          "name": "stdout",
          "text": [
            "[0.33333333 0.33333333 0.33333333]\n"
          ]
        },
        {
          "output_type": "stream",
          "name": "stderr",
          "text": [
            "[*********************100%***********************]  3 of 3 completed"
          ]
        },
        {
          "output_type": "stream",
          "name": "stdout",
          "text": [
            "0.09001743538971012\n"
          ]
        },
        {
          "output_type": "stream",
          "name": "stderr",
          "text": [
            "\n"
          ]
        }
      ]
    },
    {
      "cell_type": "code",
      "source": [
        "volatility_spread= portfolio_volatility - benchmark_volatility\n",
        "print(volatility_spread)"
      ],
      "metadata": {
        "colab": {
          "base_uri": "https://localhost:8080/"
        },
        "id": "BzhoAIesOu8w",
        "outputId": "82d14def-79e9-4c48-810e-46d6ee67f561"
      },
      "execution_count": null,
      "outputs": [
        {
          "output_type": "stream",
          "name": "stdout",
          "text": [
            "0.04918761866393258\n"
          ]
        }
      ]
    },
    {
      "cell_type": "markdown",
      "source": [
        "##Table 2"
      ],
      "metadata": {
        "id": "BAIvoghAT-bE"
      }
    },
    {
      "cell_type": "markdown",
      "source": [
        "Same procress as before, Correlation against ETF': list(correlation_with_benchmarks.values()) and so on...."
      ],
      "metadata": {
        "id": "jNG5qJHOvLUa"
      }
    },
    {
      "cell_type": "code",
      "source": [
        "\n",
        "benchmark_dict= {\n",
        "    'ETFs': benchmarks,\n",
        "    'Correlation against ETF': correlation_with_benchmarks,\n",
        "    'Covariance of Portfolio against ETF': covariance_with_benchmarks,\n",
        "    'Tracking Error': tracking_errors,\n",
        "    'Sharpe Ratio': sharpe_ratio,\n",
        "    'Volatility Spread': volatility_spread\n",
        "}\n",
        "\n",
        "print(benchmark_dict)\n"
      ],
      "metadata": {
        "colab": {
          "base_uri": "https://localhost:8080/"
        },
        "id": "o3trRUE_RHCj",
        "outputId": "3c94e6b1-6b8d-4e70-aeca-ab6050707365"
      },
      "execution_count": null,
      "outputs": [
        {
          "output_type": "stream",
          "name": "stdout",
          "text": [
            "{'ETFs': ['SPY', 'IWM', 'DIA'], 'Correlation against ETF': Ticker       SPY       IWM       DIA\n",
            "Ticker                              \n",
            "GOOG    0.744087  0.479673  0.544600\n",
            "AMZN    0.756926  0.519638  0.589202\n",
            "MSFT    0.777369  0.414532  0.579488\n",
            "NVDA    0.797585  0.431287  0.461120\n",
            "META    0.603107  0.188590  0.307634\n",
            "TSLA    0.732732  0.453244  0.501185\n",
            "AAPL    0.676487  0.430710  0.519814, 'Covariance of Portfolio against ETF': Ticker       SPY       IWM       DIA\n",
            "Ticker                              \n",
            "GOOG    0.000124  0.000125  0.000075\n",
            "AMZN    0.000155  0.000166  0.000099\n",
            "MSFT    0.000099  0.000082  0.000061\n",
            "NVDA    0.000329  0.000277  0.000156\n",
            "META    0.000132  0.000065  0.000055\n",
            "TSLA    0.000290  0.000280  0.000163\n",
            "AAPL    0.000096  0.000096  0.000061, 'Tracking Error': {('GOOG', 'SPY'): 0.012505239871177402, ('GOOG', 'IWM'): 0.015366113798060016, ('GOOG', 'DIA'): 0.014007910663515932, ('AMZN', 'SPY'): 0.016270880520859145, ('AMZN', 'IWM'): 0.018671115252555364, ('AMZN', 'DIA'): 0.01790671816347862, ('MSFT', 'SPY'): 0.010664873747710352, ('MSFT', 'IWM'): 0.014409968200129094, ('MSFT', 'DIA'): 0.012054726264297813, ('NVDA', 'SPY'): 0.02496811754513839, ('NVDA', 'IWM'): 0.025952000715121888, ('NVDA', 'DIA'): 0.026533375207300907, ('META', 'SPY'): 0.019102730306054996, ('META', 'IWM'): 0.021005719611786825, ('META', 'DIA'): 0.020593408648949714, ('TSLA', 'SPY'): 0.03175311150140506, ('TSLA', 'IWM'): 0.03175716069162244, ('TSLA', 'DIA'): 0.032745680313816736, ('AAPL', 'SPY'): 0.012127625205653709, ('AAPL', 'IWM'): 0.015031074240010338, ('AAPL', 'DIA'): 0.013278386601608957}, 'Sharpe Ratio': Ticker\n",
            "AAPL    0.090409\n",
            "AMZN    0.090954\n",
            "DIA     0.151086\n",
            "GOOG    0.055933\n",
            "IWM     0.079687\n",
            "META    0.119031\n",
            "MSFT    0.100054\n",
            "NVDA    0.137197\n",
            "SPY     0.158267\n",
            "TSLA    0.020636\n",
            "dtype: float64, 'Volatility Spread': 0.04918011273600752}\n"
          ]
        }
      ]
    },
    {
      "cell_type": "markdown",
      "source": [
        "##PART 3: Correlation Matrix"
      ],
      "metadata": {
        "id": "S47TZaE4-KnY"
      }
    },
    {
      "cell_type": "code",
      "source": [
        "\n",
        "corrm_end_date = datetime.today()\n",
        "corrm_start_date = end_date - timedelta(days=365)\n",
        "corrm_prices = yf.download(assets+benchmarks, start=corrm_start_date, end=corrm_end_date)['Adj Close']\n",
        "corrm_returns = corrm_prices.pct_change().dropna()\n",
        "\n",
        "\n",
        "correlation_matrix = corrm_returns.corr()\n",
        "\n",
        "print(correlation_matrix)\n"
      ],
      "metadata": {
        "colab": {
          "base_uri": "https://localhost:8080/"
        },
        "id": "qwTGxQ0r-j_E",
        "outputId": "b873bf2f-f3b5-4b03-f9bf-2de75ea259c2"
      },
      "execution_count": null,
      "outputs": [
        {
          "output_type": "stream",
          "name": "stderr",
          "text": [
            "[*********************100%***********************]  10 of 10 completed"
          ]
        },
        {
          "output_type": "stream",
          "name": "stdout",
          "text": [
            "Ticker      AAPL      AMZN       DIA      GOOG       IWM      META      MSFT  \\\n",
            "Ticker                                                                         \n",
            "AAPL    1.000000  0.379818  0.389424  0.406868  0.321672  0.248179  0.471147   \n",
            "AMZN    0.379818  1.000000  0.456712  0.554270  0.380209  0.611291  0.617431   \n",
            "DIA     0.389424  0.456712  1.000000  0.347221  0.758787  0.315381  0.511051   \n",
            "GOOG    0.406868  0.554270  0.347221  1.000000  0.292860  0.416983  0.529134   \n",
            "IWM     0.321672  0.380209  0.758787  0.292860  1.000000  0.226832  0.285718   \n",
            "META    0.248179  0.611291  0.315381  0.416983  0.226832  1.000000  0.564039   \n",
            "MSFT    0.471147  0.617431  0.511051  0.529134  0.285718  0.564039  1.000000   \n",
            "NVDA    0.311402  0.483074  0.264254  0.374846  0.266871  0.417169  0.468158   \n",
            "SPY     0.559418  0.671630  0.828292  0.577501  0.727747  0.542413  0.696833   \n",
            "TSLA    0.396073  0.302401  0.354978  0.222449  0.400342  0.174437  0.275715   \n",
            "\n",
            "Ticker      NVDA       SPY      TSLA  \n",
            "Ticker                                \n",
            "AAPL    0.311402  0.559418  0.396073  \n",
            "AMZN    0.483074  0.671630  0.302401  \n",
            "DIA     0.264254  0.828292  0.354978  \n",
            "GOOG    0.374846  0.577501  0.222449  \n",
            "IWM     0.266871  0.727747  0.400342  \n",
            "META    0.417169  0.542413  0.174437  \n",
            "MSFT    0.468158  0.696833  0.275715  \n",
            "NVDA    1.000000  0.648985  0.281894  \n",
            "SPY     0.648985  1.000000  0.502903  \n",
            "TSLA    0.281894  0.502903  1.000000  \n"
          ]
        },
        {
          "output_type": "stream",
          "name": "stderr",
          "text": [
            "\n"
          ]
        }
      ]
    }
  ]
}